{
 "cells": [
  {
   "cell_type": "markdown",
   "id": "47564907-4e84-4bac-b8e2-50e8668e851e",
   "metadata": {
    "editable": true,
    "slideshow": {
     "slide_type": ""
    },
    "tags": []
   },
   "source": [
    "**Heart Disease Prediction using DNN**\n",
    "Inputs (age, sex, cp, chol) are fed into a Dense Neural Network for training. The model learns patterns and predicts the likelihood of heart disease, aiding early detection and improving patient care."
   ]
  },
  {
   "cell_type": "code",
   "execution_count": 1,
   "id": "061f417d-5c1f-41d7-8c72-560da71cb0f8",
   "metadata": {},
   "outputs": [],
   "source": [
    "import pandas as pd\n",
    "import numpy as np\n",
    "import tensorflow as tf\n",
    "from tensorflow.keras.models import Sequential\n",
    "from tensorflow.keras.layers import Dense"
   ]
  },
  {
   "cell_type": "code",
   "execution_count": 2,
   "id": "931b3564-c08a-41c2-8d47-742786d7fd4b",
   "metadata": {},
   "outputs": [],
   "source": [
    "# Importing Training set\n",
    "path = 'heart.csv'\n",
    "df = pd.read_csv(path)"
   ]
  },
  {
   "cell_type": "code",
   "execution_count": 3,
   "id": "d4206cc7-526d-4967-aa3b-be5da4f6e326",
   "metadata": {
    "editable": true,
    "slideshow": {
     "slide_type": ""
    },
    "tags": []
   },
   "outputs": [
    {
     "data": {
      "text/html": [
       "<div>\n",
       "<style scoped>\n",
       "    .dataframe tbody tr th:only-of-type {\n",
       "        vertical-align: middle;\n",
       "    }\n",
       "\n",
       "    .dataframe tbody tr th {\n",
       "        vertical-align: top;\n",
       "    }\n",
       "\n",
       "    .dataframe thead th {\n",
       "        text-align: right;\n",
       "    }\n",
       "</style>\n",
       "<table border=\"1\" class=\"dataframe\">\n",
       "  <thead>\n",
       "    <tr style=\"text-align: right;\">\n",
       "      <th></th>\n",
       "      <th>age</th>\n",
       "      <th>sex</th>\n",
       "      <th>cp</th>\n",
       "      <th>trestbps</th>\n",
       "      <th>chol</th>\n",
       "      <th>fbs</th>\n",
       "      <th>restecg</th>\n",
       "      <th>thalach</th>\n",
       "      <th>exang</th>\n",
       "      <th>oldpeak</th>\n",
       "      <th>slope</th>\n",
       "      <th>ca</th>\n",
       "      <th>thal</th>\n",
       "      <th>target</th>\n",
       "    </tr>\n",
       "  </thead>\n",
       "  <tbody>\n",
       "    <tr>\n",
       "      <th>0</th>\n",
       "      <td>63</td>\n",
       "      <td>1</td>\n",
       "      <td>3</td>\n",
       "      <td>145</td>\n",
       "      <td>233</td>\n",
       "      <td>1</td>\n",
       "      <td>0</td>\n",
       "      <td>150</td>\n",
       "      <td>0</td>\n",
       "      <td>2.3</td>\n",
       "      <td>0</td>\n",
       "      <td>0</td>\n",
       "      <td>1</td>\n",
       "      <td>1</td>\n",
       "    </tr>\n",
       "    <tr>\n",
       "      <th>1</th>\n",
       "      <td>37</td>\n",
       "      <td>1</td>\n",
       "      <td>2</td>\n",
       "      <td>130</td>\n",
       "      <td>250</td>\n",
       "      <td>0</td>\n",
       "      <td>1</td>\n",
       "      <td>187</td>\n",
       "      <td>0</td>\n",
       "      <td>3.5</td>\n",
       "      <td>0</td>\n",
       "      <td>0</td>\n",
       "      <td>2</td>\n",
       "      <td>1</td>\n",
       "    </tr>\n",
       "    <tr>\n",
       "      <th>2</th>\n",
       "      <td>41</td>\n",
       "      <td>0</td>\n",
       "      <td>1</td>\n",
       "      <td>130</td>\n",
       "      <td>204</td>\n",
       "      <td>0</td>\n",
       "      <td>0</td>\n",
       "      <td>172</td>\n",
       "      <td>0</td>\n",
       "      <td>1.4</td>\n",
       "      <td>2</td>\n",
       "      <td>0</td>\n",
       "      <td>2</td>\n",
       "      <td>1</td>\n",
       "    </tr>\n",
       "    <tr>\n",
       "      <th>3</th>\n",
       "      <td>56</td>\n",
       "      <td>1</td>\n",
       "      <td>1</td>\n",
       "      <td>120</td>\n",
       "      <td>236</td>\n",
       "      <td>0</td>\n",
       "      <td>1</td>\n",
       "      <td>178</td>\n",
       "      <td>0</td>\n",
       "      <td>0.8</td>\n",
       "      <td>2</td>\n",
       "      <td>0</td>\n",
       "      <td>2</td>\n",
       "      <td>1</td>\n",
       "    </tr>\n",
       "    <tr>\n",
       "      <th>4</th>\n",
       "      <td>57</td>\n",
       "      <td>0</td>\n",
       "      <td>0</td>\n",
       "      <td>120</td>\n",
       "      <td>354</td>\n",
       "      <td>0</td>\n",
       "      <td>1</td>\n",
       "      <td>163</td>\n",
       "      <td>1</td>\n",
       "      <td>0.6</td>\n",
       "      <td>2</td>\n",
       "      <td>0</td>\n",
       "      <td>2</td>\n",
       "      <td>1</td>\n",
       "    </tr>\n",
       "  </tbody>\n",
       "</table>\n",
       "</div>"
      ],
      "text/plain": [
       "   age  sex  cp  trestbps  chol  fbs  restecg  thalach  exang  oldpeak  slope  \\\n",
       "0   63    1   3       145   233    1        0      150      0      2.3      0   \n",
       "1   37    1   2       130   250    0        1      187      0      3.5      0   \n",
       "2   41    0   1       130   204    0        0      172      0      1.4      2   \n",
       "3   56    1   1       120   236    0        1      178      0      0.8      2   \n",
       "4   57    0   0       120   354    0        1      163      1      0.6      2   \n",
       "\n",
       "   ca  thal  target  \n",
       "0   0     1       1  \n",
       "1   0     2       1  \n",
       "2   0     2       1  \n",
       "3   0     2       1  \n",
       "4   0     2       1  "
      ]
     },
     "execution_count": 3,
     "metadata": {},
     "output_type": "execute_result"
    }
   ],
   "source": [
    "# Print first 5 rows of the dataset\n",
    "df.head(5)"
   ]
  },
  {
   "cell_type": "code",
   "execution_count": 4,
   "id": "c3846d6c-01f9-44b4-ab94-f8f348c119f0",
   "metadata": {},
   "outputs": [],
   "source": [
    "# Converting Data Set into NumPy Array\n",
    "df_features = df.copy()\n",
    "df_labels = df_features.pop('target')\n",
    "X = np.array(df_features)\n",
    "Y = np.array(df_labels)"
   ]
  },
  {
   "cell_type": "code",
   "execution_count": 5,
   "id": "8060e3a0-f3e1-4230-a28c-e536c3bf5079",
   "metadata": {},
   "outputs": [],
   "source": [
    "# Normalization\n",
    "normalize = tf.keras.layers.Normalization(axis=-1)\n",
    "normalize.adapt(X)\n",
    "Xn = normalize(X)"
   ]
  },
  {
   "cell_type": "code",
   "execution_count": 6,
   "id": "75286e6b-8935-489d-aae5-3b74eb289191",
   "metadata": {},
   "outputs": [],
   "source": [
    "# Sizing the Training Set\n",
    "Xt = np.repeat(Xn, 1000, axis=0)\n",
    "Yt = np.repeat(Y, 1000)"
   ]
  },
  {
   "cell_type": "code",
   "execution_count": 7,
   "id": "2857ceee-636c-417a-91f6-66a7047488c5",
   "metadata": {},
   "outputs": [],
   "source": [
    "# Model Initiation\n",
    "np.random.seed(42)\n",
    "tf.random.set_seed(42)\n",
    "model = Sequential(\n",
    "    [\n",
    "        Dense(3,activation ='sigmoid'),\n",
    "        Dense(1,activation ='sigmoid')\n",
    "    ]\n",
    ")"
   ]
  },
  {
   "cell_type": "code",
   "execution_count": 8,
   "id": "cb25d7a4-90f0-437a-833a-0124be6a9b47",
   "metadata": {},
   "outputs": [],
   "source": [
    "# Model Compilation\n",
    "model.compile(\n",
    "    loss = tf.keras.losses.BinaryCrossentropy(),\n",
    "    optimizer = tf.keras.optimizers.Adam(learning_rate=0.01),\n",
    ")"
   ]
  },
  {
   "cell_type": "code",
   "execution_count": 9,
   "id": "7ca83b99-a205-48d8-9455-7693acbd8558",
   "metadata": {},
   "outputs": [
    {
     "name": "stdout",
     "output_type": "stream",
     "text": [
      "Epoch 1/10\n",
      "9469/9469 [==============================] - 6s 589us/step - loss: 0.2213\n",
      "Epoch 2/10\n",
      "9469/9469 [==============================] - 5s 566us/step - loss: 0.1730\n",
      "Epoch 3/10\n",
      "9469/9469 [==============================] - 5s 577us/step - loss: 0.1651\n",
      "Epoch 4/10\n",
      "9469/9469 [==============================] - 5s 578us/step - loss: 0.1609\n",
      "Epoch 5/10\n",
      "9469/9469 [==============================] - 5s 557us/step - loss: 0.1579\n",
      "Epoch 6/10\n",
      "9469/9469 [==============================] - 5s 563us/step - loss: 0.1555\n",
      "Epoch 7/10\n",
      "9469/9469 [==============================] - 5s 570us/step - loss: 0.1538\n",
      "Epoch 8/10\n",
      "9469/9469 [==============================] - 6s 616us/step - loss: 0.1525\n",
      "Epoch 9/10\n",
      "9469/9469 [==============================] - 6s 632us/step - loss: 0.1514\n",
      "Epoch 10/10\n",
      "9469/9469 [==============================] - 6s 606us/step - loss: 0.1503\n"
     ]
    },
    {
     "data": {
      "text/plain": [
       "<keras.callbacks.History at 0x2bdf2de2640>"
      ]
     },
     "execution_count": 9,
     "metadata": {},
     "output_type": "execute_result"
    }
   ],
   "source": [
    "# Model Training\n",
    "model.fit(\n",
    "    Xt, Yt,\n",
    "    epochs=10,\n",
    "\n",
    ")"
   ]
  },
  {
   "cell_type": "code",
   "execution_count": 10,
   "id": "60321f03-82d1-4424-8554-859bbc157772",
   "metadata": {},
   "outputs": [
    {
     "name": "stdout",
     "output_type": "stream",
     "text": [
      "Model: \"sequential\"\n",
      "_________________________________________________________________\n",
      " Layer (type)                Output Shape              Param #   \n",
      "=================================================================\n",
      " dense (Dense)               (None, 3)                 42        \n",
      "                                                                 \n",
      " dense_1 (Dense)             (None, 1)                 4         \n",
      "                                                                 \n",
      "=================================================================\n",
      "Total params: 46\n",
      "Trainable params: 46\n",
      "Non-trainable params: 0\n",
      "_________________________________________________________________\n"
     ]
    }
   ],
   "source": [
    "# Model Summary\n",
    "model.summary()"
   ]
  },
  {
   "cell_type": "code",
   "execution_count": 11,
   "id": "ea4c4586-3726-4446-ae31-d288d5e69f1f",
   "metadata": {},
   "outputs": [
    {
     "name": "stdout",
     "output_type": "stream",
     "text": [
      "1/1 [==============================] - 0s 48ms/step\n",
      "[[0.9145017]]\n"
     ]
    }
   ],
   "source": [
    "# Prediction (Validation)\n",
    "X_Val = np.array([[63.0,1.0,3.0,145.0,200.0,1.0,0.,150.0,0.,2.3,0.,0.,1.0]])\n",
    "X_test = normalize(X_Val)\n",
    "predictions = model.predict(X_test)\n",
    "print(predictions)"
   ]
  },
  {
   "cell_type": "markdown",
   "id": "7d92893b-4a70-4161-853b-cab4ecbc80d7",
   "metadata": {},
   "source": [
    "This gives us the **prediction** of the person to be a heart pateint."
   ]
  }
 ],
 "metadata": {
  "kernelspec": {
   "display_name": "Python 3 (ipykernel)",
   "language": "python",
   "name": "python3"
  },
  "language_info": {
   "codemirror_mode": {
    "name": "ipython",
    "version": 3
   },
   "file_extension": ".py",
   "mimetype": "text/x-python",
   "name": "python",
   "nbconvert_exporter": "python",
   "pygments_lexer": "ipython3",
   "version": "3.9.13"
  }
 },
 "nbformat": 4,
 "nbformat_minor": 5
}
